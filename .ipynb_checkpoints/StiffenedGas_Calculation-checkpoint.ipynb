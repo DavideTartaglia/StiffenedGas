{
 "cells": [
  {
   "cell_type": "code",
   "execution_count": 1,
   "id": "00eb938b",
   "metadata": {},
   "outputs": [
    {
     "data": {
      "text/plain": [
       "getMaterialNamed (generic function with 1 method)"
      ]
     },
     "execution_count": 1,
     "metadata": {},
     "output_type": "execute_result"
    }
   ],
   "source": [
    "# materialDatabase\n",
    "\n",
    "function liquidWater()\n",
    "    name = \"liquidwater\"\n",
    "    gamma = 2.8\n",
    "    pinf = 8.5e8\n",
    "    cp = 4186.\n",
    "    return name, gamma, pinf, cp\n",
    "end\n",
    "\n",
    "function air()\n",
    "    name = \"air\"\n",
    "    gamma = 1.4\n",
    "    pinf = 0.0\n",
    "    cp = 1005.\n",
    "    return name, gamma, pinf, cp\n",
    "end\n",
    "\n",
    "function default()\n",
    "    name = \"default\"\n",
    "    gamma = 1.4\n",
    "    pinf = 0.0\n",
    "    cp = gamma/(gamma-1.)*8.314462618\n",
    "    return name, gamma, pinf, cp\n",
    "end\n",
    "\n",
    "# interface of the database:\n",
    "\n",
    "    # get name of a material\n",
    "    function getName( a_material )\n",
    "        return a_material[1]\n",
    "    end\n",
    "\n",
    "    # get gamma of a material\n",
    "    function getGamma( a_material )\n",
    "        return a_material[2]\n",
    "    end\n",
    "\n",
    "    # get pinf of a material\n",
    "    function getPinf( a_material )\n",
    "        return a_material[3]\n",
    "    end\n",
    "\n",
    "    # get cp of a material\n",
    "    function getCp( a_material )\n",
    "        return a_material[4]\n",
    "    end\n",
    "\n",
    "    function materialDatabase()\n",
    "        return liquidWater(), air(), default()\n",
    "    end\n",
    "\n",
    "    function getNames(materialDatabase=materialDatabase)\n",
    "        return collect( getName(material) for material in materialDatabase() )\n",
    "    end\n",
    "\n",
    "    function getGammas(materialDatabase=materialDatabase)\n",
    "        return collect( getGamma(material) for material in materialDatabase() )\n",
    "    end\n",
    "\n",
    "    function getPinfs(materialDatabase=materialDatabase)\n",
    "        return collect( getPinf(material) for material in materialDatabase() )\n",
    "    end\n",
    "\n",
    "    function getCps(materialDatabase=materialDatabase)\n",
    "        return collect( getCps(material) for material in materialDatabase() )\n",
    "    end\n",
    "\n",
    "    function getMaterialNamed(a_name::String)\n",
    "        if ( eltype(materialDatabase()[ findall(x->x==a_name, getNames()) ])==Union{})\n",
    "            throw(DomainError(a_name, \"material not in database\"))\n",
    "        end\n",
    "        return materialDatabase()[ findall(x->x==a_name, getNames() )[1] ]\n",
    "    end"
   ]
  },
  {
   "cell_type": "code",
   "execution_count": 3,
   "id": "372b18fd",
   "metadata": {
    "scrolled": true
   },
   "outputs": [
    {
     "data": {
      "text/plain": [
       "1.4"
      ]
     },
     "execution_count": 3,
     "metadata": {},
     "output_type": "execute_result"
    }
   ],
   "source": [
    "getGamma(air())"
   ]
  },
  {
   "cell_type": "code",
   "execution_count": 4,
   "id": "96a3ee58",
   "metadata": {},
   "outputs": [
    {
     "data": {
      "text/plain": [
       "8.5e8"
      ]
     },
     "execution_count": 4,
     "metadata": {},
     "output_type": "execute_result"
    }
   ],
   "source": [
    "getPinf(liquidWater())"
   ]
  },
  {
   "cell_type": "code",
   "execution_count": 5,
   "id": "9085b371",
   "metadata": {
    "scrolled": true
   },
   "outputs": [
    {
     "data": {
      "text/plain": [
       "3-element Vector{String}:\n",
       " \"liquidwater\"\n",
       " \"air\"\n",
       " \"default\""
      ]
     },
     "execution_count": 5,
     "metadata": {},
     "output_type": "execute_result"
    }
   ],
   "source": [
    "getNames()"
   ]
  },
  {
   "cell_type": "code",
   "execution_count": 6,
   "id": "019a8a46",
   "metadata": {
    "scrolled": false
   },
   "outputs": [
    {
     "data": {
      "text/plain": [
       "3-element Vector{Float64}:\n",
       " 2.8\n",
       " 1.4\n",
       " 1.4"
      ]
     },
     "execution_count": 6,
     "metadata": {},
     "output_type": "execute_result"
    }
   ],
   "source": [
    "getGammas()"
   ]
  },
  {
   "cell_type": "code",
   "execution_count": 7,
   "id": "1c60f878",
   "metadata": {},
   "outputs": [
    {
     "data": {
      "text/plain": [
       "Union{}"
      ]
     },
     "execution_count": 7,
     "metadata": {},
     "output_type": "execute_result"
    }
   ],
   "source": [
    "eltype(materialDatabase()[ findall(x->x==\"ar\", getNames() ) ])"
   ]
  },
  {
   "cell_type": "code",
   "execution_count": 8,
   "id": "674ea002",
   "metadata": {},
   "outputs": [
    {
     "data": {
      "text/plain": [
       "true"
      ]
     },
     "execution_count": 8,
     "metadata": {},
     "output_type": "execute_result"
    }
   ],
   "source": [
    "eltype(materialDatabase()[ findall(x->x==\"ae\", getNames() ) ]) == Union{}"
   ]
  },
  {
   "cell_type": "code",
   "execution_count": 9,
   "id": "f652e12a",
   "metadata": {
    "scrolled": false
   },
   "outputs": [
    {
     "data": {
      "text/plain": [
       "(\"air\", 1.4, 0.0, 1005.0)"
      ]
     },
     "execution_count": 9,
     "metadata": {},
     "output_type": "execute_result"
    }
   ],
   "source": [
    "material = getMaterialNamed(\"air\")"
   ]
  },
  {
   "cell_type": "code",
   "execution_count": 10,
   "id": "6f0e6291",
   "metadata": {
    "scrolled": true
   },
   "outputs": [
    {
     "data": {
      "text/plain": [
       "1.4"
      ]
     },
     "execution_count": 10,
     "metadata": {},
     "output_type": "execute_result"
    }
   ],
   "source": [
    "getGamma(material)"
   ]
  },
  {
   "cell_type": "code",
   "execution_count": 11,
   "id": "dd89d63b",
   "metadata": {},
   "outputs": [
    {
     "data": {
      "text/plain": [
       "initializeRho_given_desiredQuantity! (generic function with 1 method)"
      ]
     },
     "execution_count": 11,
     "metadata": {},
     "output_type": "execute_result"
    }
   ],
   "source": [
    "function initializeRho_given_desiredQuantity!(givenQuantity2::Float64, desiredQuantity)\n",
    "    list = [\"pressure\", \"temperature\"]\n",
    "    if( desiredQuantity in list)\n",
    "        return givenQuantity2\n",
    "    elseif( desiredQuantity==\"density\")\n",
    "        return nothing # will be calculated later\n",
    "    else\n",
    "        throw(DomainError(desiredQuantity, \"unexpected desiredQuantity in initializeRho_given_desiredQuantity!\"))\n",
    "    end\n",
    "end"
   ]
  },
  {
   "cell_type": "code",
   "execution_count": 12,
   "id": "89b5ad4c",
   "metadata": {},
   "outputs": [
    {
     "data": {
      "text/plain": [
       "2.2354"
      ]
     },
     "execution_count": 12,
     "metadata": {},
     "output_type": "execute_result"
    }
   ],
   "source": [
    "# test of initializeRho\n",
    "initializeRho_given_desiredQuantity!(2.2354, \"pressure\")"
   ]
  },
  {
   "cell_type": "code",
   "execution_count": 13,
   "id": "5288c2e2",
   "metadata": {},
   "outputs": [
    {
     "data": {
      "text/plain": [
       "initializeT_given_desiredQuantity! (generic function with 1 method)"
      ]
     },
     "execution_count": 13,
     "metadata": {},
     "output_type": "execute_result"
    }
   ],
   "source": [
    "function initializeT_given_desiredQuantity!(givenQuantity1::Float64, desiredQuantity)\n",
    "    list = [\"pressure\", \"density\"]\n",
    "    if( desiredQuantity in list)\n",
    "        return givenQuantity1\n",
    "    elseif( desiredQuantity==\"temperature\")\n",
    "        return nothing # will be calculated later\n",
    "    else\n",
    "        throw(DomainError(desiredQuantity, \"unexpected desiredQuantity in initializeT_given_desiredQuantity!\"))\n",
    "    end\n",
    "end"
   ]
  },
  {
   "cell_type": "code",
   "execution_count": 14,
   "id": "784433e5",
   "metadata": {},
   "outputs": [
    {
     "data": {
      "text/plain": [
       "initializeP_given_desiredQuantity! (generic function with 1 method)"
      ]
     },
     "execution_count": 14,
     "metadata": {},
     "output_type": "execute_result"
    }
   ],
   "source": [
    "function initializeP_given_desiredQuantity!(givenQuantity1::Float64, desiredQuantity)\n",
    "    list = [\"temperature\", \"density\"]\n",
    "    if( desiredQuantity in list)\n",
    "        return givenQuantity1\n",
    "    elseif( desiredQuantity==\"pressure\")\n",
    "        return nothing # will be calculated later\n",
    "    else\n",
    "        throw(DomainError(desiredQuantity, \"unexpected desiredQuantity in initializeP_given_desiredQuantity!\"))\n",
    "    end\n",
    "end"
   ]
  },
  {
   "cell_type": "code",
   "execution_count": 15,
   "id": "7c807434",
   "metadata": {},
   "outputs": [
    {
     "data": {
      "text/plain": [
       "initializeVariables_p_T_rho (generic function with 4 methods)"
      ]
     },
     "execution_count": 15,
     "metadata": {},
     "output_type": "execute_result"
    }
   ],
   "source": [
    "function initializeVariables_p_T_rho(givenQuantity1=givenQuantity1, givenQuantity2=givenQuantity2, desiredQuantity=desiredQuantity)\n",
    "    # desiredQuantity -> givenQuantity1, givenQuantity2\n",
    "    #       p         ->        T      ,      rho\n",
    "    #       T         ->        p      ,      rho\n",
    "    #       rho       ->        T      ,      p\n",
    "    \n",
    "    rho = initializeRho_given_desiredQuantity!(givenQuantity2,desiredQuantity);\n",
    "    T = initializeT_given_desiredQuantity!(givenQuantity1, desiredQuantity);\n",
    "    p = initializeP_given_desiredQuantity!(givenQuantity1 ,desiredQuantity);\n",
    "    if(desiredQuantity==\"density\")\n",
    "        p = initializeP_given_desiredQuantity!(givenQuantity2 ,desiredQuantity);\n",
    "    end\n",
    "    \n",
    "    return p, T, rho\n",
    "end"
   ]
  },
  {
   "cell_type": "code",
   "execution_count": 16,
   "id": "33965ba0",
   "metadata": {},
   "outputs": [
    {
     "data": {
      "text/plain": [
       "(5453.5, 1.56, nothing)"
      ]
     },
     "execution_count": 16,
     "metadata": {},
     "output_type": "execute_result"
    }
   ],
   "source": [
    "initializeVariables_p_T_rho(1.56, 5453.5, \"density\")"
   ]
  },
  {
   "cell_type": "code",
   "execution_count": 17,
   "id": "5295311e",
   "metadata": {},
   "outputs": [
    {
     "data": {
      "text/plain": [
       "checkUnknown (generic function with 1 method)"
      ]
     },
     "execution_count": 17,
     "metadata": {},
     "output_type": "execute_result"
    }
   ],
   "source": [
    "function checkUnknown(desiredQuantity::String)\n",
    "        listofvariables = [\"pressure\", \"density\", \"temperature\"]\n",
    "    if ( !(desiredQuantity in listofvariables))\n",
    "        throw(DomainError(desiredQuantity, \"desiredQuantity must be either density, pressure or temperature\"))\n",
    "    else\n",
    "        println(\"desired quantity: \" , desiredQuantity)\n",
    "    end\n",
    "    return nothing\n",
    "end"
   ]
  },
  {
   "cell_type": "code",
   "execution_count": 18,
   "id": "a836ecf5",
   "metadata": {
    "scrolled": true
   },
   "outputs": [
    {
     "name": "stdout",
     "output_type": "stream",
     "text": [
      "desired quantity: pressure\n"
     ]
    }
   ],
   "source": [
    "# test of checkValidityOfUnknown\n",
    "checkUnknown(\"pressure\")"
   ]
  },
  {
   "cell_type": "code",
   "execution_count": 19,
   "id": "4a0ed4f6",
   "metadata": {
    "scrolled": true
   },
   "outputs": [
    {
     "data": {
      "text/plain": [
       "(\"air\", 1.4, 0.0, 1005.0)"
      ]
     },
     "execution_count": 19,
     "metadata": {},
     "output_type": "execute_result"
    }
   ],
   "source": [
    "materialDatabase()[ findall(x->x==\"air\", getNames() )[1] ]"
   ]
  },
  {
   "cell_type": "code",
   "execution_count": 20,
   "id": "fe14fff6",
   "metadata": {},
   "outputs": [
    {
     "data": {
      "text/plain": [
       "createMaterial (generic function with 5 methods)"
      ]
     },
     "execution_count": 20,
     "metadata": {},
     "output_type": "execute_result"
    }
   ],
   "source": [
    "function createMaterial(materialName::String, materialGamma=nothing, materialPinf=nothing, materialCp=nothing, materialDatabase=materialDatabase)\n",
    "    \n",
    "    name = materialName\n",
    "    gamma = materialGamma\n",
    "    pinf = materialPinf\n",
    "    cp = materialCp\n",
    "    \n",
    "    if ( !(materialName in getNames(materialDatabase)) && (materialGamma==nothing || materialPinf==nothing || materialCp==nothing) )\n",
    "        throw(DomainError(name, \"material not in database: you need to specify gamma and pinf in main()\"))\n",
    "    elseif (!(materialName in getNames(materialDatabase) )   )\n",
    "        println(\"custom material named <<\", name, \">>, with gamma = \", gamma, \", pinf = \", pinf, \", and cp = \", cp)\n",
    "    elseif ( materialName in getNames(materialDatabase) )\n",
    "        if(materialGamma==nothing && materialPinf==nothing && materialCp==nothing)\n",
    "            if ( materialName==\"default\" )\n",
    "                default = getMaterialNamed(\"default\")\n",
    "                gamma = getGamma(default)\n",
    "                pinf = getPinf(default)\n",
    "                cp = getCp(default)\n",
    "                println( \"default material with gamma = \", gamma, \", pinf = \", pinf, \" , and cp = \", cp)\n",
    "            else\n",
    "                material = getMaterialNamed(materialName)\n",
    "                println(\"selected material <<\", getName(material), \">> found in materialDatabase. Its properties are\")\n",
    "                name = getName(material)\n",
    "                println(\"gamma = \", getGamma(material))\n",
    "                gamma = getGamma(material)\n",
    "                println(\"pinf = \", getPinf(material))\n",
    "                pinf = getPinf(material)\n",
    "                println(\"cp = \", getCp(material))\n",
    "                cp = getCp(material)\n",
    "            end\n",
    "        else\n",
    "            material = getMaterialNamed(materialName)\n",
    "            if(gamma==nothing)\n",
    "                gamma= getGamma(material)\n",
    "            end\n",
    "            if(pinf==nothing)\n",
    "                pinf= getPinf(material)\n",
    "            end\n",
    "            if(cp==nothing)\n",
    "                cp= getCp(material)\n",
    "            end\n",
    "            println(\"WARNING: using <<\", materialName, \">> with new properties:\")\n",
    "            println(\"gamma = \", gamma)\n",
    "            println(\"pinf = \", pinf)\n",
    "        end\n",
    "        \n",
    "    end\n",
    "    \n",
    "    the_used_material = (name, gamma, pinf, cp)    \n",
    "    \n",
    "    return the_used_material\n",
    "end"
   ]
  },
  {
   "cell_type": "code",
   "execution_count": 21,
   "id": "b932c588",
   "metadata": {
    "scrolled": false
   },
   "outputs": [
    {
     "name": "stdout",
     "output_type": "stream",
     "text": [
      "WARNING: using <<liquidwater>> with new properties:\n",
      "gamma = 2.8\n",
      "pinf = 8.5e8\n"
     ]
    },
    {
     "data": {
      "text/plain": [
       "(\"liquidwater\", 2.8, 8.5e8, 4186)"
      ]
     },
     "execution_count": 21,
     "metadata": {},
     "output_type": "execute_result"
    }
   ],
   "source": [
    "materialissimo = createMaterial(\"liquidwater\", 2.8, 8.5e8, 4186)"
   ]
  },
  {
   "cell_type": "code",
   "execution_count": 22,
   "id": "d20f09b8",
   "metadata": {},
   "outputs": [
    {
     "data": {
      "text/plain": [
       "\"liquidwater\""
      ]
     },
     "execution_count": 22,
     "metadata": {},
     "output_type": "execute_result"
    }
   ],
   "source": [
    "getName(materialissimo)"
   ]
  },
  {
   "cell_type": "code",
   "execution_count": 23,
   "id": "1cb69827",
   "metadata": {
    "scrolled": true
   },
   "outputs": [
    {
     "data": {
      "text/plain": [
       "calculateDesiredQuantity! (generic function with 1 method)"
      ]
     },
     "execution_count": 23,
     "metadata": {},
     "output_type": "execute_result"
    }
   ],
   "source": [
    "function calculateDesiredQuantity!( p, T, rho, desiredQuantity, material)\n",
    "    \n",
    "    gamma = getGamma(material)\n",
    "    pinf = getPinf(material)\n",
    "    cp = getCp(material)\n",
    "    \n",
    "    R = ((gamma - 1.)/gamma)*cp  # specific gas constant (i.e., per unit mass)\n",
    "    \n",
    "    if(desiredQuantity==\"temperature\")\n",
    "        T = (p + pinf)/rho/R\n",
    "    end\n",
    "    \n",
    "    if(desiredQuantity==\"pressure\")\n",
    "        p = rho*(gamma-1)*cp*T/gamma - pinf\n",
    "    end\n",
    "    \n",
    "    if(desiredQuantity==\"density\")\n",
    "        rho = (p + pinf)/T/R\n",
    "    end\n",
    "    \n",
    "    e = cp*T/gamma + pinf/rho    # internal energy\n",
    "    \n",
    "    return p, T, rho, e\n",
    "end"
   ]
  },
  {
   "cell_type": "code",
   "execution_count": 24,
   "id": "8f789a9a",
   "metadata": {
    "scrolled": false
   },
   "outputs": [
    {
     "data": {
      "text/plain": [
       "(100000.0, 430, 734.6624839041423, 1.7998438830725795e6)"
      ]
     },
     "execution_count": 24,
     "metadata": {},
     "output_type": "execute_result"
    }
   ],
   "source": [
    "calculateDesiredQuantity!(1e5, 430, nothing, \"density\", materialissimo)"
   ]
  },
  {
   "cell_type": "code",
   "execution_count": 25,
   "id": "489a800f",
   "metadata": {
    "scrolled": true
   },
   "outputs": [
    {
     "data": {
      "text/plain": [
       "main (generic function with 6 methods)"
      ]
     },
     "execution_count": 25,
     "metadata": {},
     "output_type": "execute_result"
    }
   ],
   "source": [
    "function main(desiredQuantity::String, givenQuantity1, givenQuantity2, materialName=\"default\", gamma=nothing, pinf=nothing, cp=nothing, materialDatabase=materialDatabase)\n",
    "    \n",
    "    # cast to Float64:\n",
    "    givenQuantity1 = Float64(givenQuantity1)\n",
    "    givenQuantity2 = Float64(givenQuantity2)\n",
    "    \n",
    "    # convert to lower case desiredQuantity\n",
    "    lowercase(desiredQuantity)\n",
    "    \n",
    "    # convert to lower case materialName\n",
    "    lowercase(materialName)\n",
    "    \n",
    "    # perform a few validity checks and initialize material\n",
    "    checkUnknown(desiredQuantity)\n",
    "    println()\n",
    "    material = createMaterial(materialName, gamma, pinf, cp)\n",
    "    \n",
    "    # initialize pressure, temperature and density\n",
    "    (p, T, rho) = initializeVariables_p_T_rho(givenQuantity1, givenQuantity2, desiredQuantity)\n",
    "    \n",
    "    # run the calculation of the desired quantity\n",
    "    (p, T, rho, e) = calculateDesiredQuantity!(p, T, rho, desiredQuantity, material)\n",
    "    \n",
    "    # output\n",
    "    println(\"p = \", p)\n",
    "    println(\"T = \", T)\n",
    "    println(\"rho = \", rho)\n",
    "    println()\n",
    "    println(\"ending main\")\n",
    "                \n",
    "end"
   ]
  },
  {
   "cell_type": "code",
   "execution_count": 26,
   "id": "1184ed6d",
   "metadata": {
    "scrolled": true
   },
   "outputs": [
    {
     "name": "stdout",
     "output_type": "stream",
     "text": [
      "desired quantity: temperature\n",
      "\n",
      "WARNING: using <<liquidwater>> with new properties:\n",
      "gamma = 2.35\n",
      "pinf = 1.0e10\n",
      "p = 101325.0\n",
      "T = 3652.268337354245\n",
      "rho = 1117.0\n",
      "\n",
      "ending main\n"
     ]
    }
   ],
   "source": [
    "# main parameters:\n",
    "\n",
    "# desiredQuantity -> givenQuantity1, givenQuantity2, materialName(optional), gamma(optional), pinf(optional), cp (opt)\n",
    "#       p         ->        T      ,      rho\n",
    "#       T         ->        p      ,      rho\n",
    "#       rho       ->        T      ,      p\n",
    "\n",
    "main(\"temperature\", 1.01325e5, 1117, \"liquidwater\", 2.35, 10e9, 4267)"
   ]
  }
 ],
 "metadata": {
  "kernelspec": {
   "display_name": "Julia 1.7.0",
   "language": "julia",
   "name": "julia-1.7"
  },
  "language_info": {
   "file_extension": ".jl",
   "mimetype": "application/julia",
   "name": "julia",
   "version": "1.7.0"
  }
 },
 "nbformat": 4,
 "nbformat_minor": 5
}
