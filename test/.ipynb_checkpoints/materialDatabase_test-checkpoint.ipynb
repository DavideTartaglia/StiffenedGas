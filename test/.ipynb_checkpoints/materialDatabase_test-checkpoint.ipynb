{
 "cells": [
  {
   "cell_type": "code",
   "execution_count": 1,
   "id": "60c2ca6a",
   "metadata": {},
   "outputs": [
    {
     "ename": "LoadError",
     "evalue": "LoadError: syntax: { } vector syntax is discontinued around /home/dt793242/julia-workspace/StiffenedGas_Calculation/materialDatabase.jl:1\nin expression starting at /home/dt793242/julia-workspace/StiffenedGas_Calculation/materialDatabase.jl:1",
     "output_type": "error",
     "traceback": [
      "LoadError: syntax: { } vector syntax is discontinued around /home/dt793242/julia-workspace/StiffenedGas_Calculation/materialDatabase.jl:1\nin expression starting at /home/dt793242/julia-workspace/StiffenedGas_Calculation/materialDatabase.jl:1",
      "",
      "Stacktrace:",
      " [1] top-level scope",
      "   @ ~/julia-workspace/StiffenedGas_Calculation/materialDatabase.jl:1",
      " [2] include(fname::String)",
      "   @ Base.MainInclude ./client.jl:451",
      " [3] top-level scope",
      "   @ In[1]:1",
      " [4] eval",
      "   @ ./boot.jl:373 [inlined]",
      " [5] include_string(mapexpr::typeof(REPL.softscope), mod::Module, code::String, filename::String)",
      "   @ Base ./loading.jl:1196"
     ]
    }
   ],
   "source": [
    "include(\"../materialDatabase.jl\")"
   ]
  },
  {
   "cell_type": "code",
   "execution_count": 2,
   "id": "40eec759",
   "metadata": {},
   "outputs": [
    {
     "ename": "LoadError",
     "evalue": "UndefVarError: air not defined",
     "output_type": "error",
     "traceback": [
      "UndefVarError: air not defined",
      "",
      "Stacktrace:",
      " [1] top-level scope",
      "   @ In[2]:1",
      " [2] eval",
      "   @ ./boot.jl:373 [inlined]",
      " [3] include_string(mapexpr::typeof(REPL.softscope), mod::Module, code::String, filename::String)",
      "   @ Base ./loading.jl:1196"
     ]
    }
   ],
   "source": [
    "getGamma(air())"
   ]
  },
  {
   "cell_type": "code",
   "execution_count": 3,
   "id": "e2c97959",
   "metadata": {},
   "outputs": [
    {
     "ename": "LoadError",
     "evalue": "UndefVarError: liquidWater not defined",
     "output_type": "error",
     "traceback": [
      "UndefVarError: liquidWater not defined",
      "",
      "Stacktrace:",
      " [1] top-level scope",
      "   @ In[3]:1",
      " [2] eval",
      "   @ ./boot.jl:373 [inlined]",
      " [3] include_string(mapexpr::typeof(REPL.softscope), mod::Module, code::String, filename::String)",
      "   @ Base ./loading.jl:1196"
     ]
    }
   ],
   "source": [
    "getPinf(liquidWater())"
   ]
  },
  {
   "cell_type": "code",
   "execution_count": 4,
   "id": "e28d60d3",
   "metadata": {},
   "outputs": [
    {
     "ename": "LoadError",
     "evalue": "UndefVarError: getNames not defined",
     "output_type": "error",
     "traceback": [
      "UndefVarError: getNames not defined",
      "",
      "Stacktrace:",
      " [1] top-level scope",
      "   @ In[4]:1",
      " [2] eval",
      "   @ ./boot.jl:373 [inlined]",
      " [3] include_string(mapexpr::typeof(REPL.softscope), mod::Module, code::String, filename::String)",
      "   @ Base ./loading.jl:1196"
     ]
    }
   ],
   "source": [
    "getNames()"
   ]
  },
  {
   "cell_type": "code",
   "execution_count": 5,
   "id": "f67a63b6",
   "metadata": {},
   "outputs": [
    {
     "ename": "LoadError",
     "evalue": "UndefVarError: getGammas not defined",
     "output_type": "error",
     "traceback": [
      "UndefVarError: getGammas not defined",
      "",
      "Stacktrace:",
      " [1] top-level scope",
      "   @ In[5]:1",
      " [2] eval",
      "   @ ./boot.jl:373 [inlined]",
      " [3] include_string(mapexpr::typeof(REPL.softscope), mod::Module, code::String, filename::String)",
      "   @ Base ./loading.jl:1196"
     ]
    }
   ],
   "source": [
    "getGammas()"
   ]
  },
  {
   "cell_type": "code",
   "execution_count": 6,
   "id": "bcac591c",
   "metadata": {},
   "outputs": [
    {
     "ename": "LoadError",
     "evalue": "UndefVarError: materialDatabase not defined",
     "output_type": "error",
     "traceback": [
      "UndefVarError: materialDatabase not defined",
      "",
      "Stacktrace:",
      " [1] top-level scope",
      "   @ In[6]:1",
      " [2] eval",
      "   @ ./boot.jl:373 [inlined]",
      " [3] include_string(mapexpr::typeof(REPL.softscope), mod::Module, code::String, filename::String)",
      "   @ Base ./loading.jl:1196"
     ]
    }
   ],
   "source": [
    "eltype(materialDatabase()[ findall(x->x==\"ar\", getNames() ) ])"
   ]
  },
  {
   "cell_type": "code",
   "execution_count": 7,
   "id": "011dd8dd",
   "metadata": {},
   "outputs": [
    {
     "ename": "LoadError",
     "evalue": "UndefVarError: materialDatabase not defined",
     "output_type": "error",
     "traceback": [
      "UndefVarError: materialDatabase not defined",
      "",
      "Stacktrace:",
      " [1] top-level scope",
      "   @ In[7]:1",
      " [2] eval",
      "   @ ./boot.jl:373 [inlined]",
      " [3] include_string(mapexpr::typeof(REPL.softscope), mod::Module, code::String, filename::String)",
      "   @ Base ./loading.jl:1196"
     ]
    }
   ],
   "source": [
    "eltype(materialDatabase()[ findall(x->x==\"ae\", getNames() ) ]) == Union{}"
   ]
  },
  {
   "cell_type": "code",
   "execution_count": 8,
   "id": "ef174c1b",
   "metadata": {},
   "outputs": [
    {
     "ename": "LoadError",
     "evalue": "UndefVarError: getMaterialNamed not defined",
     "output_type": "error",
     "traceback": [
      "UndefVarError: getMaterialNamed not defined",
      "",
      "Stacktrace:",
      " [1] top-level scope",
      "   @ In[8]:1",
      " [2] eval",
      "   @ ./boot.jl:373 [inlined]",
      " [3] include_string(mapexpr::typeof(REPL.softscope), mod::Module, code::String, filename::String)",
      "   @ Base ./loading.jl:1196"
     ]
    }
   ],
   "source": [
    "material = getMaterialNamed(\"air\")"
   ]
  },
  {
   "cell_type": "code",
   "execution_count": 9,
   "id": "d9625b67",
   "metadata": {},
   "outputs": [
    {
     "ename": "LoadError",
     "evalue": "UndefVarError: getGamma not defined",
     "output_type": "error",
     "traceback": [
      "UndefVarError: getGamma not defined",
      "",
      "Stacktrace:",
      " [1] top-level scope",
      "   @ In[9]:1",
      " [2] eval",
      "   @ ./boot.jl:373 [inlined]",
      " [3] include_string(mapexpr::typeof(REPL.softscope), mod::Module, code::String, filename::String)",
      "   @ Base ./loading.jl:1196"
     ]
    }
   ],
   "source": [
    "getGamma(material)"
   ]
  },
  {
   "cell_type": "code",
   "execution_count": null,
   "id": "be171cba",
   "metadata": {},
   "outputs": [],
   "source": []
  }
 ],
 "metadata": {
  "kernelspec": {
   "display_name": "Julia 1.7.0",
   "language": "julia",
   "name": "julia-1.7"
  },
  "language_info": {
   "file_extension": ".jl",
   "mimetype": "application/julia",
   "name": "julia",
   "version": "1.7.0"
  }
 },
 "nbformat": 4,
 "nbformat_minor": 5
}
