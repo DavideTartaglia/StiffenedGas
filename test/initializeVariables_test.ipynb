{
 "cells": [
  {
   "cell_type": "code",
   "execution_count": 1,
   "id": "18b04b10",
   "metadata": {},
   "outputs": [
    {
     "data": {
      "text/plain": [
       "initializeVariables_p_T_rho (generic function with 4 methods)"
      ]
     },
     "execution_count": 1,
     "metadata": {},
     "output_type": "execute_result"
    }
   ],
   "source": [
    "include(\"../initializeVariables.jl\")"
   ]
  },
  {
   "cell_type": "code",
   "execution_count": 2,
   "id": "56eaa0c2",
   "metadata": {},
   "outputs": [
    {
     "name": "stdout",
     "output_type": "stream",
     "text": [
      "desired quantity: pressure\n"
     ]
    }
   ],
   "source": [
    "checkUnknown(\"pressure\")"
   ]
  },
  {
   "cell_type": "code",
   "execution_count": 3,
   "id": "dbc8f91c",
   "metadata": {},
   "outputs": [
    {
     "data": {
      "text/plain": [
       "(5453.5, 1.56, nothing)"
      ]
     },
     "execution_count": 3,
     "metadata": {},
     "output_type": "execute_result"
    }
   ],
   "source": [
    "initializeVariables_p_T_rho(1.56, 5453.5, \"density\")"
   ]
  },
  {
   "cell_type": "code",
   "execution_count": 4,
   "id": "87eaa2b0",
   "metadata": {},
   "outputs": [
    {
     "data": {
      "text/plain": [
       "2.2354"
      ]
     },
     "execution_count": 4,
     "metadata": {},
     "output_type": "execute_result"
    }
   ],
   "source": [
    "initializeRho_given_desiredQuantity!(2.2354, \"pressure\")"
   ]
  }
 ],
 "metadata": {
  "kernelspec": {
   "display_name": "Julia 1.7.0",
   "language": "julia",
   "name": "julia-1.7"
  },
  "language_info": {
   "file_extension": ".jl",
   "mimetype": "application/julia",
   "name": "julia",
   "version": "1.7.0"
  }
 },
 "nbformat": 4,
 "nbformat_minor": 5
}
