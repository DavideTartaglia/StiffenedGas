{
 "cells": [
  {
   "cell_type": "code",
   "execution_count": 1,
   "id": "60c2ca6a",
   "metadata": {
    "scrolled": false
   },
   "outputs": [
    {
     "data": {
      "text/plain": [
       "getMaterialNamed (generic function with 1 method)"
      ]
     },
     "execution_count": 1,
     "metadata": {},
     "output_type": "execute_result"
    }
   ],
   "source": [
    "include(\"../materialDatabase.jl\")"
   ]
  },
  {
   "cell_type": "code",
   "execution_count": 2,
   "id": "40eec759",
   "metadata": {},
   "outputs": [
    {
     "data": {
      "text/plain": [
       "1.4"
      ]
     },
     "execution_count": 2,
     "metadata": {},
     "output_type": "execute_result"
    }
   ],
   "source": [
    "getGamma(air())"
   ]
  },
  {
   "cell_type": "code",
   "execution_count": 3,
   "id": "e2c97959",
   "metadata": {},
   "outputs": [
    {
     "data": {
      "text/plain": [
       "8.5e8"
      ]
     },
     "execution_count": 3,
     "metadata": {},
     "output_type": "execute_result"
    }
   ],
   "source": [
    "getPinf(liquidWater())"
   ]
  },
  {
   "cell_type": "code",
   "execution_count": 4,
   "id": "e28d60d3",
   "metadata": {},
   "outputs": [
    {
     "data": {
      "text/plain": [
       "3-element Vector{String}:\n",
       " \"liquidwater\"\n",
       " \"air\"\n",
       " \"default\""
      ]
     },
     "execution_count": 4,
     "metadata": {},
     "output_type": "execute_result"
    }
   ],
   "source": [
    "getNames()"
   ]
  },
  {
   "cell_type": "code",
   "execution_count": 5,
   "id": "f67a63b6",
   "metadata": {},
   "outputs": [
    {
     "data": {
      "text/plain": [
       "3-element Vector{Float64}:\n",
       " 2.8\n",
       " 1.4\n",
       " 1.4"
      ]
     },
     "execution_count": 5,
     "metadata": {},
     "output_type": "execute_result"
    }
   ],
   "source": [
    "getGammas()"
   ]
  },
  {
   "cell_type": "code",
   "execution_count": 6,
   "id": "bcac591c",
   "metadata": {},
   "outputs": [
    {
     "data": {
      "text/plain": [
       "Union{}"
      ]
     },
     "execution_count": 6,
     "metadata": {},
     "output_type": "execute_result"
    }
   ],
   "source": [
    "eltype(materialDatabase()[ findall(x->x==\"ar\", getNames() ) ])"
   ]
  },
  {
   "cell_type": "code",
   "execution_count": 7,
   "id": "011dd8dd",
   "metadata": {},
   "outputs": [
    {
     "data": {
      "text/plain": [
       "true"
      ]
     },
     "execution_count": 7,
     "metadata": {},
     "output_type": "execute_result"
    }
   ],
   "source": [
    "eltype(materialDatabase()[ findall(x->x==\"ae\", getNames() ) ]) == Union{}"
   ]
  },
  {
   "cell_type": "code",
   "execution_count": 8,
   "id": "ef174c1b",
   "metadata": {},
   "outputs": [
    {
     "data": {
      "text/plain": [
       "(\"air\", 1.4, 0.0, 1005.0)"
      ]
     },
     "execution_count": 8,
     "metadata": {},
     "output_type": "execute_result"
    }
   ],
   "source": [
    "material = getMaterialNamed(\"air\")"
   ]
  },
  {
   "cell_type": "code",
   "execution_count": 9,
   "id": "d9625b67",
   "metadata": {},
   "outputs": [
    {
     "data": {
      "text/plain": [
       "1.4"
      ]
     },
     "execution_count": 9,
     "metadata": {},
     "output_type": "execute_result"
    }
   ],
   "source": [
    "getGamma(material)"
   ]
  },
  {
   "cell_type": "code",
   "execution_count": 10,
   "id": "be171cba",
   "metadata": {},
   "outputs": [
    {
     "data": {
      "text/plain": [
       "(\"air\", 1.4, 0.0, 1005.0)"
      ]
     },
     "execution_count": 10,
     "metadata": {},
     "output_type": "execute_result"
    }
   ],
   "source": [
    "materialDatabase()[ findall(x->x==\"air\", getNames() )[1] ]"
   ]
  }
 ],
 "metadata": {
  "kernelspec": {
   "display_name": "Julia 1.7.0",
   "language": "julia",
   "name": "julia-1.7"
  },
  "language_info": {
   "file_extension": ".jl",
   "mimetype": "application/julia",
   "name": "julia",
   "version": "1.7.0"
  }
 },
 "nbformat": 4,
 "nbformat_minor": 5
}
