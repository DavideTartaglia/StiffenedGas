{
 "cells": [
  {
   "cell_type": "code",
   "execution_count": 1,
   "id": "f8c7b0d0",
   "metadata": {},
   "outputs": [
    {
     "data": {
      "text/plain": [
       "getMaterialNamed (generic function with 1 method)"
      ]
     },
     "execution_count": 1,
     "metadata": {},
     "output_type": "execute_result"
    }
   ],
   "source": [
    "include(\"../materialDatabase.jl\")"
   ]
  },
  {
   "cell_type": "code",
   "execution_count": 2,
   "id": "c196ce0d",
   "metadata": {},
   "outputs": [],
   "source": [
    "include(\"../createAMaterial.jl\")\n",
    "import .createAMaterial as cr\n",
    "using .cr"
   ]
  },
  {
   "cell_type": "code",
   "execution_count": 3,
   "id": "db8691a8",
   "metadata": {},
   "outputs": [
    {
     "name": "stdout",
     "output_type": "stream",
     "text": [
      "WARNING: using <<liquidwater>> with new properties:\n",
      "gamma = 2.8\n",
      "pinf = 8.5e8\n"
     ]
    },
    {
     "data": {
      "text/plain": [
       "(\"liquidwater\", 2.8, 8.5e8, 4186)"
      ]
     },
     "execution_count": 3,
     "metadata": {},
     "output_type": "execute_result"
    }
   ],
   "source": [
    "materialissimo = createMaterial(\"liquidwater\", 2.8, 8.5e8, 4186)"
   ]
  },
  {
   "cell_type": "code",
   "execution_count": 4,
   "id": "bcfd7cb1",
   "metadata": {},
   "outputs": [
    {
     "data": {
      "text/plain": [
       "\"liquidwater\""
      ]
     },
     "execution_count": 4,
     "metadata": {},
     "output_type": "execute_result"
    }
   ],
   "source": [
    "getName(materialissimo)"
   ]
  }
 ],
 "metadata": {
  "kernelspec": {
   "display_name": "Julia 1.7.0",
   "language": "julia",
   "name": "julia-1.7"
  },
  "language_info": {
   "file_extension": ".jl",
   "mimetype": "application/julia",
   "name": "julia",
   "version": "1.7.0"
  }
 },
 "nbformat": 4,
 "nbformat_minor": 5
}
