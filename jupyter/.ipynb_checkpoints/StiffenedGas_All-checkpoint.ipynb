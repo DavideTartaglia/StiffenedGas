{
 "cells": [
  {
   "cell_type": "code",
   "execution_count": 1,
   "id": "4de212d4",
   "metadata": {
    "scrolled": true
   },
   "outputs": [
    {
     "ename": "LoadError",
     "evalue": "LoadError: syntax: { } vector syntax is discontinued around /home/dt793242/julia-workspace/StiffenedGas_Calculation/jupyter/createMaterial.ipynb:1\nin expression starting at /home/dt793242/julia-workspace/StiffenedGas_Calculation/jupyter/createMaterial.ipynb:1",
     "output_type": "error",
     "traceback": [
      "LoadError: syntax: { } vector syntax is discontinued around /home/dt793242/julia-workspace/StiffenedGas_Calculation/jupyter/createMaterial.ipynb:1\nin expression starting at /home/dt793242/julia-workspace/StiffenedGas_Calculation/jupyter/createMaterial.ipynb:1",
      "",
      "Stacktrace:",
      " [1] top-level scope",
      "   @ ~/julia-workspace/StiffenedGas_Calculation/jupyter/createMaterial.ipynb:1",
      " [2] include(fname::String)",
      "   @ Base.MainInclude ./client.jl:451",
      " [3] top-level scope",
      "   @ In[1]:1",
      " [4] eval",
      "   @ ./boot.jl:373 [inlined]",
      " [5] include_string(mapexpr::typeof(REPL.softscope), mod::Module, code::String, filename::String)",
      "   @ Base ./loading.jl:1196"
     ]
    }
   ],
   "source": [
    "include(\"createMaterial.ipynb\")\n",
    "\n",
    "import .createAMaterial as cr\n",
    "using .cr"
   ]
  },
  {
   "cell_type": "code",
   "execution_count": 2,
   "id": "00eb938b",
   "metadata": {
    "scrolled": false
   },
   "outputs": [
    {
     "data": {
      "text/plain": [
       "getMaterialNamed (generic function with 1 method)"
      ]
     },
     "execution_count": 2,
     "metadata": {},
     "output_type": "execute_result"
    }
   ],
   "source": [
    "include(\"materialDatabase.ipynb\")"
   ]
  },
  {
   "cell_type": "code",
   "execution_count": 3,
   "id": "7f3a6542",
   "metadata": {
    "scrolled": true
   },
   "outputs": [
    {
     "data": {
      "text/plain": [
       "initializeVariables_p_T_rho (generic function with 4 methods)"
      ]
     },
     "execution_count": 3,
     "metadata": {},
     "output_type": "execute_result"
    }
   ],
   "source": [
    "include(\"initializeVariables.ipynb\")"
   ]
  },
  {
   "cell_type": "code",
   "execution_count": 4,
   "id": "1cb69827",
   "metadata": {
    "scrolled": true
   },
   "outputs": [
    {
     "data": {
      "text/plain": [
       "calculateDesiredQuantity! (generic function with 1 method)"
      ]
     },
     "execution_count": 4,
     "metadata": {},
     "output_type": "execute_result"
    }
   ],
   "source": [
    "function calculateDesiredQuantity!( p, T, rho, desiredQuantity, material)\n",
    "    \n",
    "    gamma = getGamma(material)\n",
    "    pinf = getPinf(material)\n",
    "    cp = getCp(material)\n",
    "    \n",
    "    R = ((gamma - 1.)/gamma)*cp   # specific gas constant (i.e., per unit mass)\n",
    "    \n",
    "    if(desiredQuantity==\"temperature\")\n",
    "        T = (p + pinf)/rho/R\n",
    "    end\n",
    "    \n",
    "    if(desiredQuantity==\"pressure\")\n",
    "        p = rho*(gamma-1)*cp*T/gamma - pinf\n",
    "    end\n",
    "    \n",
    "    if(desiredQuantity==\"density\")\n",
    "        rho = (p + pinf)/T/R\n",
    "    end\n",
    "    \n",
    "    e = cp*T/gamma + pinf/rho     # internal energy\n",
    "    \n",
    "    return p, T, rho, e\n",
    "end"
   ]
  },
  {
   "cell_type": "code",
   "execution_count": 5,
   "id": "489a800f",
   "metadata": {
    "scrolled": true
   },
   "outputs": [
    {
     "data": {
      "text/plain": [
       "main (generic function with 6 methods)"
      ]
     },
     "execution_count": 5,
     "metadata": {},
     "output_type": "execute_result"
    }
   ],
   "source": [
    "function main(desiredQuantity::String, givenQuantity1, givenQuantity2, materialName=\"default\", gamma=nothing, pinf=nothing, cp=nothing, materialDatabase=materialDatabase)\n",
    "    \n",
    "    # cast to Float64:\n",
    "    givenQuantity1 = Float64(givenQuantity1)\n",
    "    givenQuantity2 = Float64(givenQuantity2)\n",
    "    \n",
    "    # convert to lower case desiredQuantity\n",
    "    desiredQuantity = lowercase(desiredQuantity)\n",
    "    \n",
    "    # convert to lower case materialName\n",
    "    materialName = lowercase(materialName)\n",
    "    \n",
    "    # perform a few validity checks and initialize material\n",
    "    checkUnknown(desiredQuantity)\n",
    "    println()\n",
    "    material = cr.createMaterial(materialName, gamma, pinf, cp)\n",
    "    \n",
    "    # initialize pressure, temperature and density\n",
    "    (p, T, rho) = initializeVariables_p_T_rho(givenQuantity1, givenQuantity2, desiredQuantity)\n",
    "    \n",
    "    # run the calculation of the desired quantity\n",
    "    (p, T, rho, e) = calculateDesiredQuantity!(p, T, rho, desiredQuantity, material)\n",
    "    \n",
    "    # output\n",
    "    println()\n",
    "    println(\"output: \")\n",
    "    println(\"p = \", p)\n",
    "    println(\"T = \", T)\n",
    "    println(\"rho = \", rho)\n",
    "    println(\"e = \", e)\n",
    "    println()\n",
    "    println(\"ending main\")\n",
    "                \n",
    "end"
   ]
  },
  {
   "cell_type": "code",
   "execution_count": 6,
   "id": "1184ed6d",
   "metadata": {
    "scrolled": true
   },
   "outputs": [
    {
     "name": "stdout",
     "output_type": "stream",
     "text": [
      "desired quantity: temperature\n",
      "\n",
      "WARNING: using <<liquidwater>> with new properties:\n",
      "gamma = 2.35\n",
      "pinf = 1.0e10\n",
      "\n",
      "output: \n",
      "p = 101325.0\n",
      "T = 3652.268337354245\n",
      "rho = 1117.0\n",
      "e = 1.5584138283762723e7\n",
      "\n",
      "ending main\n"
     ]
    }
   ],
   "source": [
    "# main parameters:\n",
    "\n",
    "# desiredQuantity -> givenQuantity1, givenQuantity2, materialName(optional), gamma(optional), pinf(optional), cp (opt)\n",
    "#       p         ->        T      ,      rho\n",
    "#       T         ->        p      ,      rho\n",
    "#       rho       ->        T      ,      p\n",
    "\n",
    "main(\"temperature\", 1.01325e5, 1117, \"liquidwater\", 2.35, 10e9, 4267)"
   ]
  }
 ],
 "metadata": {
  "kernelspec": {
   "display_name": "Julia 1.7.0",
   "language": "julia",
   "name": "julia-1.7"
  },
  "language_info": {
   "file_extension": ".jl",
   "mimetype": "application/julia",
   "name": "julia",
   "version": "1.7.0"
  }
 },
 "nbformat": 4,
 "nbformat_minor": 5
}
