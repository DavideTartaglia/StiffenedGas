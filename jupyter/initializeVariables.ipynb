{
 "cells": [
  {
   "cell_type": "code",
   "execution_count": 2,
   "id": "7b58a71b",
   "metadata": {},
   "outputs": [
    {
     "data": {
      "text/plain": [
       "checkUnknown (generic function with 1 method)"
      ]
     },
     "execution_count": 2,
     "metadata": {},
     "output_type": "execute_result"
    }
   ],
   "source": [
    "function checkUnknown(desiredQuantity::String)\n",
    "        listofvariables = [\"pressure\", \"density\", \"temperature\"]\n",
    "    if ( !(desiredQuantity in listofvariables))\n",
    "        throw(DomainError(desiredQuantity, \"desiredQuantity must be either density, pressure or temperature\"))\n",
    "    else\n",
    "        println(\"desired quantity: \" , desiredQuantity)\n",
    "    end\n",
    "    return nothing\n",
    "end"
   ]
  },
  {
   "cell_type": "code",
   "execution_count": 3,
   "id": "8002f15d",
   "metadata": {},
   "outputs": [
    {
     "data": {
      "text/plain": [
       "initializeRho_given_desiredQuantity! (generic function with 1 method)"
      ]
     },
     "execution_count": 3,
     "metadata": {},
     "output_type": "execute_result"
    }
   ],
   "source": [
    "function initializeRho_given_desiredQuantity!(givenQuantity2::Float64, desiredQuantity)\n",
    "    list = [\"pressure\", \"temperature\"]\n",
    "    if( desiredQuantity in list)\n",
    "        return givenQuantity2\n",
    "    elseif( desiredQuantity==\"density\")\n",
    "        return nothing # will be calculated later\n",
    "    else\n",
    "        throw(DomainError(desiredQuantity, \"unexpected desiredQuantity in initializeRho_given_desiredQuantity!\"))\n",
    "    end\n",
    "end"
   ]
  },
  {
   "cell_type": "code",
   "execution_count": 4,
   "id": "a90f0f83",
   "metadata": {},
   "outputs": [
    {
     "data": {
      "text/plain": [
       "initializeT_given_desiredQuantity! (generic function with 1 method)"
      ]
     },
     "execution_count": 4,
     "metadata": {},
     "output_type": "execute_result"
    }
   ],
   "source": [
    "function initializeT_given_desiredQuantity!(givenQuantity1::Float64, desiredQuantity)\n",
    "    list = [\"pressure\", \"density\"]\n",
    "    if( desiredQuantity in list)\n",
    "        return givenQuantity1\n",
    "    elseif( desiredQuantity==\"temperature\")\n",
    "        return nothing # will be calculated later\n",
    "    else\n",
    "        throw(DomainError(desiredQuantity, \"unexpected desiredQuantity in initializeT_given_desiredQuantity!\"))\n",
    "    end\n",
    "end"
   ]
  },
  {
   "cell_type": "code",
   "execution_count": 5,
   "id": "ea03b14b",
   "metadata": {},
   "outputs": [
    {
     "data": {
      "text/plain": [
       "initializeP_given_desiredQuantity! (generic function with 1 method)"
      ]
     },
     "execution_count": 5,
     "metadata": {},
     "output_type": "execute_result"
    }
   ],
   "source": [
    "function initializeP_given_desiredQuantity!(givenQuantity1::Float64, desiredQuantity)\n",
    "    list = [\"temperature\", \"density\"]\n",
    "    if( desiredQuantity in list)\n",
    "        return givenQuantity1\n",
    "    elseif( desiredQuantity==\"pressure\")\n",
    "        return nothing # will be calculated later\n",
    "    else\n",
    "        throw(DomainError(desiredQuantity, \"unexpected desiredQuantity in initializeP_given_desiredQuantity!\"))\n",
    "    end\n",
    "end"
   ]
  },
  {
   "cell_type": "code",
   "execution_count": 6,
   "id": "223486bc",
   "metadata": {},
   "outputs": [
    {
     "data": {
      "text/plain": [
       "initializeVariables_p_T_rho (generic function with 4 methods)"
      ]
     },
     "execution_count": 6,
     "metadata": {},
     "output_type": "execute_result"
    }
   ],
   "source": [
    "function initializeVariables_p_T_rho(givenQuantity1=givenQuantity1, givenQuantity2=givenQuantity2, desiredQuantity=desiredQuantity)\n",
    "    # desiredQuantity -> givenQuantity1, givenQuantity2\n",
    "    #       p         ->        T      ,      rho\n",
    "    #       T         ->        p      ,      rho\n",
    "    #       rho       ->        T      ,      p\n",
    "    \n",
    "    rho = initializeRho_given_desiredQuantity!(givenQuantity2,desiredQuantity);\n",
    "    T = initializeT_given_desiredQuantity!(givenQuantity1, desiredQuantity);\n",
    "    p = initializeP_given_desiredQuantity!(givenQuantity1 ,desiredQuantity);\n",
    "    if(desiredQuantity==\"density\")\n",
    "        p = initializeP_given_desiredQuantity!(givenQuantity2 ,desiredQuantity);\n",
    "    end\n",
    "    \n",
    "    return p, T, rho\n",
    "end"
   ]
  }
 ],
 "metadata": {
  "kernelspec": {
   "display_name": "Julia 1.7.0",
   "language": "julia",
   "name": "julia-1.7"
  },
  "language_info": {
   "file_extension": ".jl",
   "mimetype": "application/julia",
   "name": "julia",
   "version": "1.7.0"
  }
 },
 "nbformat": 4,
 "nbformat_minor": 5
}
